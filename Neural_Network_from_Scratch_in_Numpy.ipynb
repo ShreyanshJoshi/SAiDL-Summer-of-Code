{
  "nbformat": 4,
  "nbformat_minor": 0,
  "metadata": {
    "colab": {
      "name": " Neural Network from Scratch in Numpy",
      "provenance": [],
      "authorship_tag": "ABX9TyMPluBV0qF7gKXn4lZPPBU0",
      "include_colab_link": true
    },
    "kernelspec": {
      "name": "python3",
      "display_name": "Python 3"
    }
  },
  "cells": [
    {
      "cell_type": "markdown",
      "metadata": {
        "id": "view-in-github",
        "colab_type": "text"
      },
      "source": [
        "<a href=\"https://colab.research.google.com/github/ShreyanshJoshi/SAiDL-Summer-of-Code/blob/master/Neural_Network_from_Scratch_in_Numpy.ipynb\" target=\"_parent\"><img src=\"https://colab.research.google.com/assets/colab-badge.svg\" alt=\"Open In Colab\"/></a>"
      ]
    },
    {
      "cell_type": "markdown",
      "metadata": {
        "id": "tOsMx_fuD1yM",
        "colab_type": "text"
      },
      "source": [
        "\n",
        "Create an Artificial Neural Net in numpy which computes the XOR/XNOR of two bit\n",
        "binary numbers depending on a third input - \n",
        "\n",
        "\n",
        "*   If 0, compute XNOR\n",
        "*   If 1, compute XOR\n",
        "\n"
      ]
    },
    {
      "cell_type": "code",
      "metadata": {
        "id": "gyndue3XLefu",
        "colab_type": "code",
        "colab": {}
      },
      "source": [
        "import numpy as np\n",
        "import matplotlib.pyplot as plt\n",
        "import sklearn\n",
        "import sklearn.datasets\n",
        "import sklearn.linear_model\n"
      ],
      "execution_count": 0,
      "outputs": []
    },
    {
      "cell_type": "code",
      "metadata": {
        "id": "r9qQNeyXewTJ",
        "colab_type": "code",
        "colab": {}
      },
      "source": [
        "def sigmoid(Z):                # For forward prop \n",
        "    return 1/(1+np.exp(-Z))\n",
        "    \n",
        "def d_sigmoid(z):              # For back prop\n",
        "    return z*(1-z)"
      ],
      "execution_count": 0,
      "outputs": []
    },
    {
      "cell_type": "code",
      "metadata": {
        "id": "JAolw_3YMKoZ",
        "colab_type": "code",
        "colab": {}
      },
      "source": [
        "Y = np.array([[1],[0],[0],[1],[0],[1],[1],[0]])\n",
        "\n",
        "X = np.array([[1,1,0],[1,0,0],[0,1,0],[0,0,0],[1,1,1],[1,0,1],[0,1,1],[0,0,1]])\n"
      ],
      "execution_count": 0,
      "outputs": []
    },
    {
      "cell_type": "code",
      "metadata": {
        "id": "O_3laj5vUsHk",
        "colab_type": "code",
        "colab": {}
      },
      "source": [
        "input_size=3                # Equal to no of input entries\n",
        "hidden_size=2\n",
        "output_size=1               # size of output layer"
      ],
      "execution_count": 0,
      "outputs": []
    },
    {
      "cell_type": "code",
      "metadata": {
        "id": "iV4IEUlUUwbK",
        "colab_type": "code",
        "colab": {}
      },
      "source": [
        "# Initializing weights and biases. 'np.random.uniform' draw samples from a uniform distribution.\n",
        "\n",
        "W1 = np.random.uniform(low=-1,high=1,size=(input_size,hidden_size))\n",
        "W2 = np.random.uniform(low=-1,high=1,size=(hidden_size,output_size))\n",
        "\n",
        "b1  = np.random.uniform(low=-1,high=1,size=(1,hidden_size))\n",
        "b2  = np.random.uniform(low=-1,high=1,size=(1,output_size))"
      ],
      "execution_count": 0,
      "outputs": []
    },
    {
      "cell_type": "code",
      "metadata": {
        "id": "kIcINbmNxQCh",
        "colab_type": "code",
        "outputId": "617bd51e-0505-444f-e2ae-6cc5b987affe",
        "colab": {
          "base_uri": "https://localhost:8080/",
          "height": 158
        }
      },
      "source": [
        "epochs=500000\n",
        "lr=0.05\n",
        "for i in range (0,epochs):\n",
        "    # Forward Pass\n",
        "\n",
        "    Z1 = np.dot(X,W1) + b1\n",
        "    A1 = sigmoid(Z1)\n",
        "\n",
        "    Z2 = np.dot(A1,W2) + b2\n",
        "    A2 = sigmoid(Z2)\n",
        "    \n",
        "    # Wrt this loss function, we start to optimize gradients (via backprop)\n",
        "    loss=(Y - A2)\n",
        "    \n",
        "    # BackPropagation \n",
        "\n",
        "    dZ2 = loss *d_sigmoid(A2)\n",
        "    \n",
        "    temp = dZ2.dot(W2.T)\n",
        "\n",
        "    dZ1 = temp * d_sigmoid(A1)\n",
        "    \n",
        "    # Updating Weights and Biases\n",
        "    \n",
        "    W2 += A1.T.dot(dZ2) * lr * 1/8\n",
        "    b2 += np.sum(dZ2 ,axis=0,keepdims=True) * lr * 1/8\n",
        "\n",
        "    W1 += X.T.dot(dZ1) * lr * 1/8\n",
        "    b1 += np.sum(dZ1 ,axis=0,keepdims=True) * lr * 1/8\n",
        "\n",
        "for j in range(8):\n",
        "    print(\"Actual output is\",Y[j],\"and predicted output is\",A2[j])"
      ],
      "execution_count": 26,
      "outputs": [
        {
          "output_type": "stream",
          "text": [
            "Actual output is [1] and predicted output is [0.97147263]\n",
            "Actual output is [0] and predicted output is [0.02923214]\n",
            "Actual output is [0] and predicted output is [0.04489732]\n",
            "Actual output is [1] and predicted output is [0.97142369]\n",
            "Actual output is [0] and predicted output is [0.02913434]\n",
            "Actual output is [1] and predicted output is [0.95210029]\n",
            "Actual output is [1] and predicted output is [0.97147262]\n",
            "Actual output is [0] and predicted output is [0.02923216]\n"
          ],
          "name": "stdout"
        }
      ]
    },
    {
      "cell_type": "code",
      "metadata": {
        "id": "6KW_psVlfoQN",
        "colab_type": "code",
        "colab": {
          "base_uri": "https://localhost:8080/",
          "height": 35
        },
        "outputId": "bf4d737f-01bd-49e7-9fc3-04ae05173762"
      },
      "source": [
        "# For making predictions .Change array 'a' accordingly.\n",
        "\n",
        "a = np.array([[0,0,1]])\n",
        "\n",
        "Z1 = np.dot(a,W1) + b1\n",
        "A1 = sigmoid(Z1)\n",
        "\n",
        "Z2 = np.dot(A1,W2) + b2\n",
        "A2 = sigmoid(Z2)\n",
        "print(A2)\n",
        "\n",
        "# NOTE: If A2>=0.5, consider output to be 1, else output is 0 "
      ],
      "execution_count": 27,
      "outputs": [
        {
          "output_type": "stream",
          "text": [
            "[[0.02923215]]\n"
          ],
          "name": "stdout"
        }
      ]
    }
  ]
}